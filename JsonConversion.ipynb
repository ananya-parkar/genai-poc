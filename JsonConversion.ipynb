{
 "cells": [
  {
   "cell_type": "code",
   "execution_count": 1,
   "metadata": {},
   "outputs": [],
   "source": [
    "import snowflake.connector\n",
    "import json\n",
    "from datetime import datetime"
   ]
  },
  {
   "cell_type": "code",
   "execution_count": 2,
   "metadata": {},
   "outputs": [],
   "source": [
    "def json_serializer(obj):\n",
    "    \"\"\"Custom serializer for non-JSON-native objects\"\"\"\n",
    "    if isinstance(obj, datetime):\n",
    "        return obj.isoformat()\n",
    "    raise TypeError(f\"Type {type(obj)} not serializable\")"
   ]
  },
  {
   "cell_type": "code",
   "execution_count": null,
   "metadata": {},
   "outputs": [],
   "source": [
    "# Snowflake connection details\n",
    "import configparser\n",
    " \n",
    "config = configparser.ConfigParser()\n",
    "config.read('config.ini')\n",
    " \n",
    "SNOWFLAKE_USER = config['snowflake']['user']\n",
    "SNOWFLAKE_PASSWORD = config['snowflake']['password']\n",
    "SNOWFLAKE_ACCOUNT = config['snowflake']['account']\n",
    "SNOWFLAKE_WAREHOUSE = config['snowflake']['warehouse']\n",
    "SNOWFLAKE_DATABASE = config['snowflake']['database']\n",
    "SNOWFLAKE_SCHEMA = config['snowflake']['schema']\n",
    " \n",
    "conn = snowflake.connector.connect(\n",
    "    user=SNOWFLAKE_USER,\n",
    "    password=SNOWFLAKE_PASSWORD,\n",
    "    account=SNOWFLAKE_ACCOUNT,\n",
    "    warehouse=SNOWFLAKE_WAREHOUSE,\n",
    "    database=SNOWFLAKE_DATABASE,\n",
    "    schema=SNOWFLAKE_SCHEMA\n",
    ")\n",
    " "
   ]
  },
  {
   "cell_type": "code",
   "execution_count": 4,
   "metadata": {},
   "outputs": [],
   "source": [
    "# Fetch cleaned incident data\n",
    "cursor = conn.cursor()\n",
    "cursor.execute(\"SELECT * FROM cleaned_alerts\")  # Your cleaned table\n",
    "rows = cursor.fetchall()\n",
    "columns = [desc[0] for desc in cursor.description]"
   ]
  },
  {
   "cell_type": "code",
   "execution_count": 5,
   "metadata": {},
   "outputs": [],
   "source": [
    "# Convert to JSON with datetime handling\n",
    "incident_data = [dict(zip(columns, row)) for row in rows]\n",
    "incident_json = json.dumps(incident_data, \n",
    "                          default=json_serializer,  # Add custom serializer\n",
    "                          indent=4)"
   ]
  },
  {
   "cell_type": "code",
   "execution_count": 6,
   "metadata": {},
   "outputs": [],
   "source": [
    "# Save JSON to file\n",
    "with open(\"incident_data.json\", \"w\") as f:\n",
    "    f.write(incident_json)"
   ]
  },
  {
   "cell_type": "code",
   "execution_count": 7,
   "metadata": {},
   "outputs": [],
   "source": [
    "# Close connections\n",
    "cursor.close()\n",
    "conn.close()"
   ]
  }
 ],
 "metadata": {
  "kernelspec": {
   "display_name": "Python 3",
   "language": "python",
   "name": "python3"
  },
  "language_info": {
   "codemirror_mode": {
    "name": "ipython",
    "version": 3
   },
   "file_extension": ".py",
   "mimetype": "text/x-python",
   "name": "python",
   "nbconvert_exporter": "python",
   "pygments_lexer": "ipython3",
   "version": "3.11.9"
  }
 },
 "nbformat": 4,
 "nbformat_minor": 2
}
