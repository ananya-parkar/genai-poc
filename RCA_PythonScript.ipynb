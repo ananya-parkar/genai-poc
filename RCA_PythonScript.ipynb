{
 "cells": [
  {
   "cell_type": "code",
   "execution_count": 1,
   "metadata": {},
   "outputs": [
    {
     "name": "stdout",
     "output_type": "stream",
     "text": [
      "Requirement already satisfied: pandas in c:\\users\\ananya.mehta\\appdata\\local\\programs\\python\\python311\\lib\\site-packages (2.2.3)\n",
      "Requirement already satisfied: numpy>=1.23.2 in c:\\users\\ananya.mehta\\appdata\\local\\programs\\python\\python311\\lib\\site-packages (from pandas) (2.2.4)\n",
      "Requirement already satisfied: python-dateutil>=2.8.2 in c:\\users\\ananya.mehta\\appdata\\roaming\\python\\python311\\site-packages (from pandas) (2.9.0.post0)\n",
      "Requirement already satisfied: pytz>=2020.1 in c:\\users\\ananya.mehta\\appdata\\local\\programs\\python\\python311\\lib\\site-packages (from pandas) (2025.2)\n",
      "Requirement already satisfied: tzdata>=2022.7 in c:\\users\\ananya.mehta\\appdata\\local\\programs\\python\\python311\\lib\\site-packages (from pandas) (2025.2)\n",
      "Requirement already satisfied: six>=1.5 in c:\\users\\ananya.mehta\\appdata\\roaming\\python\\python311\\site-packages (from python-dateutil>=2.8.2->pandas) (1.17.0)\n",
      "Note: you may need to restart the kernel to use updated packages.\n"
     ]
    },
    {
     "name": "stderr",
     "output_type": "stream",
     "text": [
      "\n",
      "[notice] A new release of pip is available: 24.0 -> 25.0.1\n",
      "[notice] To update, run: python.exe -m pip install --upgrade pip\n"
     ]
    }
   ],
   "source": [
    "pip install pandas"
   ]
  },
  {
   "cell_type": "code",
   "execution_count": 2,
   "metadata": {},
   "outputs": [
    {
     "name": "stdout",
     "output_type": "stream",
     "text": [
      "Requirement already satisfied: networkx in c:\\users\\ananya.mehta\\appdata\\local\\programs\\python\\python311\\lib\\site-packages (3.4.2)\n",
      "Note: you may need to restart the kernel to use updated packages.\n"
     ]
    },
    {
     "name": "stderr",
     "output_type": "stream",
     "text": [
      "\n",
      "[notice] A new release of pip is available: 24.0 -> 25.0.1\n",
      "[notice] To update, run: python.exe -m pip install --upgrade pip\n"
     ]
    }
   ],
   "source": [
    "pip install networkx"
   ]
  },
  {
   "cell_type": "code",
   "execution_count": 3,
   "metadata": {},
   "outputs": [],
   "source": [
    "import json\n",
    "import pandas as pd\n",
    "import networkx as nx\n",
    "import os\n",
    "import sys\n",
    "import io"
   ]
  },
  {
   "cell_type": "code",
   "execution_count": 4,
   "metadata": {},
   "outputs": [],
   "source": [
    "# Force UTF-8 encoding for output\n",
    "sys.stdout = io.TextIOWrapper(sys.stdout, encoding='utf-8')\n"
   ]
  },
  {
   "cell_type": "code",
   "execution_count": 5,
   "metadata": {},
   "outputs": [],
   "source": [
    "def load_incident_data(file_path):\n",
    "    \"\"\"Load incident data from JSON file.\"\"\"\n",
    "    if not os.path.exists(file_path):\n",
    "        print(f\"Error: File {file_path} not found.\")\n",
    "        return None\n",
    "\n",
    "    try:\n",
    "        with open(file_path, encoding=\"utf-8\") as f:  # Ensure UTF-8 encoding for file reading\n",
    "            data = json.load(f)\n",
    "        \n",
    "        # Convert list of incidents to DataFrame\n",
    "        df = pd.DataFrame(data)\n",
    "        \n",
    "        # Remove duplicate incidents based on INCIDENT_ID and TIMESTAMP\n",
    "        df = df.drop_duplicates(subset=['INCIDENT_ID', 'TIMESTAMP'])\n",
    "        \n",
    "        return df\n",
    "    except json.JSONDecodeError:\n",
    "        print(\"Error: Invalid JSON format.\")\n",
    "        return None"
   ]
  },
  {
   "cell_type": "code",
   "execution_count": 6,
   "metadata": {},
   "outputs": [],
   "source": [
    "def analyze_individual_incident(row):\n",
    "    \"\"\"Analyze a single incident to find potential root causes.\"\"\"\n",
    "    G = nx.DiGraph()\n",
    "\n",
    "    # Handle missing values gracefully\n",
    "    service_node = f\"Service: {row['AFFECTED_SERVICE']}\" if row['AFFECTED_SERVICE'] else \"Unknown Service\"\n",
    "    incident_node = f\"Incident: {row['INCIDENT_ID']}\"\n",
    "\n",
    "    # Add nodes for incidents and services\n",
    "    G.add_node(service_node, type='service')\n",
    "    G.add_node(incident_node, type='incident', impact=row['IMPACT_LEVEL'], description=row['DESCRIPTION'])\n",
    "\n",
    "    # Add edge from service to incident if service is known\n",
    "    if row['AFFECTED_SERVICE']:\n",
    "        G.add_edge(service_node, incident_node)\n",
    "\n",
    "    # Debugging output to visualize the graph structure\n",
    "    print(\"Graph Nodes:\", G.nodes(data=True))\n",
    "    print(\"Graph Edges:\", list(G.edges(data=True)))\n",
    "\n",
    "    # Analyze graph to find potential root causes (in this case, just the current incident)\n",
    "    root_causes = [service_node] if G.in_degree(incident_node) == 0 else []\n",
    "\n",
    "    return root_causes"
   ]
  },
  {
   "cell_type": "code",
   "execution_count": null,
   "metadata": {},
   "outputs": [],
   "source": [
    "if __name__ == \"__main__\":\n",
    "    # Absolute path or relative path to your JSON file\n",
    "    JSON_FILE = \"C:/Users/Ananya.Mehta/OneDrive - Parkar Digital/Desktop/mygenai/incident_data.json\"\n",
    "\n",
    "    print(f\"Loading incident data from {JSON_FILE}...\")\n",
    "    incidents_df = load_incident_data(JSON_FILE)\n",
    "\n",
    "    if incidents_df is not None:\n",
    "        print(f\"Loaded {len(incidents_df)} incidents.\")\n",
    "\n",
    "        # Iterate through each incident and analyze individually\n",
    "        for index, row in incidents_df.iterrows():\n",
    "            print(f\"\\nAnalyzing Incident ID: {row['INCIDENT_ID']}\")\n",
    "            root_causes = analyze_individual_incident(row)\n",
    "\n",
    "            if root_causes:\n",
    "                print(\"Potential Root Causes:\")\n",
    "                for cause in root_causes:\n",
    "                    print(f\"- {cause}\")\n",
    "            else:\n",
    "                print(\"No clear root causes identified for this incident.\")"
   ]
  }
 ],
 "metadata": {
  "kernelspec": {
   "display_name": "Python 3",
   "language": "python",
   "name": "python3"
  },
  "language_info": {
   "codemirror_mode": {
    "name": "ipython",
    "version": 3
   },
   "file_extension": ".py",
   "mimetype": "text/x-python",
   "name": "python",
   "nbconvert_exporter": "python",
   "pygments_lexer": "ipython3",
   "version": "3.11.9"
  }
 },
 "nbformat": 4,
 "nbformat_minor": 2
}
