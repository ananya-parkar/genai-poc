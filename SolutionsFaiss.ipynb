{
 "cells": [
  {
   "cell_type": "code",
   "execution_count": 2,
   "metadata": {},
   "outputs": [
    {
     "name": "stderr",
     "output_type": "stream",
     "text": [
      "c:\\Users\\Anshika.Ranjan\\AppData\\Local\\Programs\\Python\\Python311\\Lib\\site-packages\\tqdm\\auto.py:21: TqdmWarning: IProgress not found. Please update jupyter and ipywidgets. See https://ipywidgets.readthedocs.io/en/stable/user_install.html\n",
      "  from .autonotebook import tqdm as notebook_tqdm\n"
     ]
    }
   ],
   "source": [
    "import snowflake.connector\n",
    "import configparser\n",
    "import requests\n",
    "import json\n",
    "from sentence_transformers import SentenceTransformer\n",
    "import faiss\n",
    "import numpy as np\n",
    "# Load Hugging Face transformer model\n",
    "embedding_model = SentenceTransformer('all-MiniLM-L6-v2')\n",
    "# Load config\n",
    "config = configparser.ConfigParser()\n",
    "config.read(\"config.ini\")\n",
    "SNOWFLAKE_CONFIG = {\n",
    "   \"user\": config[\"snowflake\"][\"user\"],\n",
    "   \"password\": config[\"snowflake\"][\"password\"],\n",
    "   \"account\": config[\"snowflake\"][\"account\"],\n",
    "   \"warehouse\": config[\"snowflake\"][\"warehouse\"],\n",
    "   \"database\": config[\"snowflake\"][\"database\"],\n",
    "   \"schema\": config[\"snowflake\"][\"schema\"],\n",
    "}\n",
    "API_URL = \"https://api-inference.huggingface.co/models/mistralai/Mistral-7B-Instruct-v0.2\"\n",
    "API_KEY = config[\"huggingface\"][\"api_key\"]\n",
    "HEADERS = {\"Authorization\": f\"Bearer {API_KEY}\", \"Content-Type\": \"application/json\"}"
   ]
  },
  {
   "cell_type": "code",
   "execution_count": 3,
   "metadata": {},
   "outputs": [],
   "source": [
    "def create_ai_solutions_table():\n",
    "   conn = snowflake.connector.connect(**SNOWFLAKE_CONFIG)\n",
    "   cursor = conn.cursor()\n",
    "   query = \"\"\"\n",
    "   CREATE TABLE IF NOT EXISTS AI_SOLUTIONS (\n",
    "       INCIDENT_ID STRING PRIMARY KEY,\n",
    "       SUBJECT STRING,\n",
    "       IMPACT_LEVEL STRING,\n",
    "       AFFECTED_SERVICE STRING,\n",
    "       TIMESTAMP TIMESTAMP,\n",
    "       DESCRIPTION STRING,\n",
    "       AI_GENERATED_SOLUTION STRING\n",
    "   );\n",
    "   \"\"\"\n",
    "   cursor.execute(query)\n",
    "   conn.commit()\n",
    "   cursor.close()\n",
    "   conn.close()\n",
    "   print(\"AI_SOLUTIONS table checked/created successfully.\")"
   ]
  },
  {
   "cell_type": "code",
   "execution_count": 4,
   "metadata": {},
   "outputs": [],
   "source": [
    "def fetch_latest_email_alert():\n",
    "   conn = snowflake.connector.connect(**SNOWFLAKE_CONFIG)\n",
    "   cursor = conn.cursor()\n",
    "   query = \"\"\"\n",
    "       SELECT subject, INCIDENT_ID, impact_level, affected_service, timestamp, description\n",
    "       FROM cleaned_alerts\n",
    "       ORDER BY timestamp DESC\n",
    "       LIMIT 1;\n",
    "   \"\"\"\n",
    "   cursor.execute(query)\n",
    "   latest_alert = cursor.fetchone()\n",
    "   column_names = [desc[0].lower() for desc in cursor.description]\n",
    "   cursor.close()\n",
    "   conn.close()\n",
    "   return dict(zip(column_names, latest_alert)) if latest_alert else None"
   ]
  },
  {
   "cell_type": "code",
   "execution_count": 5,
   "metadata": {},
   "outputs": [],
   "source": [
    "def generate_solution(alert_data):\n",
    "   if not alert_data:\n",
    "       return \"No new alerts found.\"\n",
    "   formatted_alert = f\"\"\"\n",
    "   Incident ID: {alert_data['incident_id']}\n",
    "   Subject: {alert_data['subject']}\n",
    "   Impact Level: {alert_data['impact_level']}\n",
    "   Affected Service: {alert_data['affected_service']}\n",
    "   Timestamp: {alert_data['timestamp']}\n",
    "   Description: {alert_data['description']}\n",
    "   \"\"\"\n",
    "   data = {\"inputs\": f\"Analyze this email alert and provide a solution with steps:\\n\\n{formatted_alert}\"}\n",
    "   try:\n",
    "       response = requests.post(API_URL, headers=HEADERS, json=data)\n",
    "       response.raise_for_status()\n",
    "       result = response.json()\n",
    "       if isinstance(result, list) and result:\n",
    "           return result[0].get(\"generated_text\", \"Solution not found.\")\n",
    "       return \"Solution not found.\"\n",
    "   except Exception as e:\n",
    "       print(f\"Error: {e}\")\n",
    "       return \"API request failed.\""
   ]
  },
  {
   "cell_type": "code",
   "execution_count": 6,
   "metadata": {},
   "outputs": [],
   "source": [
    "def store_ai_solution(alert_data, ai_solution):\n",
    "   conn = snowflake.connector.connect(**SNOWFLAKE_CONFIG)\n",
    "   cursor = conn.cursor()\n",
    "   query = \"\"\"\n",
    "   INSERT INTO AI_SOLUTIONS (INCIDENT_ID, SUBJECT, IMPACT_LEVEL, AFFECTED_SERVICE, TIMESTAMP, DESCRIPTION, AI_GENERATED_SOLUTION)\n",
    "   VALUES (%s, %s, %s, %s, %s, %s, %s)\n",
    "   \"\"\"\n",
    "   values = (\n",
    "       alert_data['incident_id'], alert_data['subject'], alert_data['impact_level'],\n",
    "       alert_data['affected_service'], alert_data['timestamp'],\n",
    "       alert_data['description'], ai_solution\n",
    "   )\n",
    "   cursor.execute(query, values)\n",
    "   conn.commit()\n",
    "   cursor.close()\n",
    "   conn.close()\n",
    "   print(\"Solution stored successfully.\")"
   ]
  },
  {
   "cell_type": "code",
   "execution_count": 7,
   "metadata": {},
   "outputs": [],
   "source": [
    "def load_existing_embeddings():\n",
    "   conn = snowflake.connector.connect(**SNOWFLAKE_CONFIG)\n",
    "   cursor = conn.cursor()\n",
    "   query = \"\"\"\n",
    "       SELECT INCIDENT_ID, DESCRIPTION, AI_GENERATED_SOLUTION\n",
    "       FROM AI_SOLUTIONS;\n",
    "   \"\"\"\n",
    "   cursor.execute(query)\n",
    "   rows = cursor.fetchall()\n",
    "   cursor.close()\n",
    "   conn.close()\n",
    "   if not rows:\n",
    "       return [], [], []\n",
    "   incident_ids = [row[0] for row in rows]\n",
    "   descriptions = [row[1] for row in rows]\n",
    "   solutions = [row[2] for row in rows]\n",
    "   return incident_ids, descriptions, solutions"
   ]
  },
  {
   "cell_type": "code",
   "execution_count": 8,
   "metadata": {},
   "outputs": [],
   "source": [
    "def build_faiss_index(descriptions):\n",
    "   embeddings = embedding_model.encode(descriptions, convert_to_numpy=True)\n",
    "   dim = embeddings.shape[1]\n",
    "   index = faiss.IndexFlatL2(dim)\n",
    "   index.add(embeddings)\n",
    "   return index"
   ]
  },
  {
   "cell_type": "code",
   "execution_count": 9,
   "metadata": {},
   "outputs": [],
   "source": [
    "def check_for_similar_alert(new_description, index, descriptions, incident_ids, solutions, threshold=0.85):\n",
    "   new_embedding = embedding_model.encode([new_description], convert_to_numpy=True)\n",
    "   D, I = index.search(new_embedding, k=1)\n",
    "   similarity = 1 / (1 + D[0][0])  # Convert L2 to similarity\n",
    "   if similarity >= threshold:\n",
    "       match_idx = I[0][0]\n",
    "       print(f\"Similar alert found! Similarity: {similarity:.2f}\")\n",
    "       return solutions[match_idx]\n",
    "   print(f\"No similar alert found. Similarity: {similarity:.2f}\")\n",
    "   return None"
   ]
  },
  {
   "cell_type": "code",
   "execution_count": 10,
   "metadata": {},
   "outputs": [
    {
     "name": "stdout",
     "output_type": "stream",
     "text": [
      "AI_SOLUTIONS table checked/created successfully.\n",
      "No similar alert found. Similarity: 0.41\n",
      "Solution stored successfully.\n"
     ]
    }
   ],
   "source": [
    "create_ai_solutions_table()\n",
    "latest_alert = fetch_latest_email_alert()\n",
    "if latest_alert:\n",
    "   incident_ids, descriptions, solutions = load_existing_embeddings()\n",
    "   if descriptions:\n",
    "       index = build_faiss_index(descriptions)\n",
    "       matched_solution = check_for_similar_alert(\n",
    "           latest_alert[\"description\"], index, descriptions, incident_ids, solutions\n",
    "       )\n",
    "   else:\n",
    "       matched_solution = None\n",
    "   if matched_solution:\n",
    "       store_ai_solution(latest_alert, matched_solution)\n",
    "   else:\n",
    "       generated_solution = generate_solution(latest_alert)\n",
    "       if generated_solution:\n",
    "           store_ai_solution(latest_alert, generated_solution)"
   ]
  },
  {
   "cell_type": "code",
   "execution_count": null,
   "metadata": {},
   "outputs": [],
   "source": []
  }
 ],
 "metadata": {
  "kernelspec": {
   "display_name": "Python 3",
   "language": "python",
   "name": "python3"
  },
  "language_info": {
   "codemirror_mode": {
    "name": "ipython",
    "version": 3
   },
   "file_extension": ".py",
   "mimetype": "text/x-python",
   "name": "python",
   "nbconvert_exporter": "python",
   "pygments_lexer": "ipython3",
   "version": "3.11.9"
  }
 },
 "nbformat": 4,
 "nbformat_minor": 2
}
