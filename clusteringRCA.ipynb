{
 "cells": [
  {
   "cell_type": "code",
   "execution_count": 1,
   "metadata": {},
   "outputs": [
    {
     "name": "stderr",
     "output_type": "stream",
     "text": [
      "c:\\Users\\Anshika.Ranjan\\AppData\\Local\\Programs\\Python\\Python311\\Lib\\site-packages\\tqdm\\auto.py:21: TqdmWarning: IProgress not found. Please update jupyter and ipywidgets. See https://ipywidgets.readthedocs.io/en/stable/user_install.html\n",
      "  from .autonotebook import tqdm as notebook_tqdm\n"
     ]
    }
   ],
   "source": [
    "import json\n",
    "import numpy as np\n",
    "import pandas as pd\n",
    "import pickle\n",
    "from sentence_transformers import SentenceTransformer\n",
    "from sklearn.cluster import DBSCAN\n",
    "from sklearn.feature_extraction.text import TfidfVectorizer"
   ]
  },
  {
   "cell_type": "code",
   "execution_count": 2,
   "metadata": {},
   "outputs": [],
   "source": [
    "# Load from JSON (or use your own source)\n",
    "df = pd.read_json(\"incident_data.json\")\n",
    "# Keep only necessary columns and clean\n",
    "df = df[[\"INCIDENT_ID\", \"DESCRIPTION\"]]\n",
    "df.dropna(subset=[\"DESCRIPTION\"], inplace=True)\n",
    "df = df[df[\"DESCRIPTION\"].str.strip() != \"\"]"
   ]
  },
  {
   "cell_type": "code",
   "execution_count": 5,
   "metadata": {},
   "outputs": [
    {
     "name": "stderr",
     "output_type": "stream",
     "text": [
      "Batches: 100%|██████████| 1/1 [00:00<00:00,  5.78it/s]\n"
     ]
    }
   ],
   "source": [
    "model = SentenceTransformer(\"all-MiniLM-L6-v2\")\n",
    "embeddings = model.encode(df[\"DESCRIPTION\"].tolist(), show_progress_bar=True)"
   ]
  },
  {
   "cell_type": "code",
   "execution_count": 13,
   "metadata": {},
   "outputs": [
    {
     "name": "stdout",
     "output_type": "stream",
     "text": [
      "\n",
      "Total Clusters Found (excluding noise): 3\n",
      "All cluster labels (including noise): [np.int64(-1), np.int64(0), np.int64(1), np.int64(2)]\n"
     ]
    }
   ],
   "source": [
    "dbscan = DBSCAN(eps=0.5, min_samples=2, metric='cosine')\n",
    "df[\"cluster\"] = dbscan.fit_predict(embeddings)\n",
    "# Get unique clusters\n",
    "unique_clusters = sorted(df[\"cluster\"].unique())\n",
    "print(f\"\\nTotal Clusters Found (excluding noise): {len([c for c in unique_clusters if c != -1])}\")\n",
    "print(f\"All cluster labels (including noise): {unique_clusters}\")"
   ]
  },
  {
   "cell_type": "code",
   "execution_count": 14,
   "metadata": {},
   "outputs": [
    {
     "name": "stdout",
     "output_type": "stream",
     "text": [
      "\n",
      "Top Keywords per Cluster:\n",
      "\n",
      "Cluster -1 (Noise): Skipped\n",
      "\n",
      "Cluster 0:\n",
      "  Total Alerts  : 2\n",
      "  Top Keywords  : utc, service, prevent, 25, environment\n",
      "\n",
      "Cluster 1:\n",
      "  Total Alerts  : 2\n",
      "  Top Keywords  : connection, timeout, database, error, sql\n",
      "\n",
      "Cluster 2:\n",
      "  Total Alerts  : 2\n",
      "  Top Keywords  : network, latency, possible, central1, issue\n"
     ]
    }
   ],
   "source": [
    "vectorizer = TfidfVectorizer(stop_words=\"english\")\n",
    "X = vectorizer.fit_transform(df[\"DESCRIPTION\"])\n",
    "print(\"\\nTop Keywords per Cluster:\")\n",
    "for cluster_id in unique_clusters:\n",
    "   if cluster_id == -1:\n",
    "       print(f\"\\nCluster -1 (Noise): Skipped\")\n",
    "       continue\n",
    "   cluster_indices = df[df[\"cluster\"] == cluster_id].index\n",
    "   cluster_matrix = X[cluster_indices]\n",
    "   mean_tfidf = cluster_matrix.mean(axis=0)\n",
    "   keywords = np.array(vectorizer.get_feature_names_out())[np.argsort(mean_tfidf.A1)[-5:]]  # Top 5\n",
    "   print(f\"\\nCluster {cluster_id}:\")\n",
    "   print(f\"  Total Alerts  : {len(cluster_indices)}\")\n",
    "   print(f\"  Top Keywords  : {', '.join(keywords[::-1])}\")"
   ]
  },
  {
   "cell_type": "code",
   "execution_count": null,
   "metadata": {},
   "outputs": [],
   "source": []
  }
 ],
 "metadata": {
  "kernelspec": {
   "display_name": "Python 3",
   "language": "python",
   "name": "python3"
  },
  "language_info": {
   "codemirror_mode": {
    "name": "ipython",
    "version": 3
   },
   "file_extension": ".py",
   "mimetype": "text/x-python",
   "name": "python",
   "nbconvert_exporter": "python",
   "pygments_lexer": "ipython3",
   "version": "3.11.9"
  }
 },
 "nbformat": 4,
 "nbformat_minor": 2
}
