{
 "cells": [
  {
   "cell_type": "code",
   "execution_count": 2,
   "metadata": {},
   "outputs": [
    {
     "name": "stderr",
     "output_type": "stream",
     "text": [
      "c:\\Users\\Anshika.Ranjan\\AppData\\Local\\Programs\\Python\\Python311\\Lib\\site-packages\\tqdm\\auto.py:21: TqdmWarning: IProgress not found. Please update jupyter and ipywidgets. See https://ipywidgets.readthedocs.io/en/stable/user_install.html\n",
      "  from .autonotebook import tqdm as notebook_tqdm\n"
     ]
    }
   ],
   "source": [
    "import json\n",
    "import numpy as np\n",
    "import pandas as pd\n",
    "import pickle\n",
    "from sentence_transformers import SentenceTransformer\n",
    "from sklearn.cluster import KMeans\n",
    "from sklearn.feature_extraction.text import TfidfVectorizer"
   ]
  },
  {
   "cell_type": "code",
   "execution_count": 8,
   "metadata": {},
   "outputs": [
    {
     "data": {
      "text/html": [
       "<div>\n",
       "<style scoped>\n",
       "    .dataframe tbody tr th:only-of-type {\n",
       "        vertical-align: middle;\n",
       "    }\n",
       "\n",
       "    .dataframe tbody tr th {\n",
       "        vertical-align: top;\n",
       "    }\n",
       "\n",
       "    .dataframe thead th {\n",
       "        text-align: right;\n",
       "    }\n",
       "</style>\n",
       "<table border=\"1\" class=\"dataframe\">\n",
       "  <thead>\n",
       "    <tr style=\"text-align: right;\">\n",
       "      <th></th>\n",
       "      <th>INCIDENT_ID</th>\n",
       "      <th>DESCRIPTION</th>\n",
       "    </tr>\n",
       "  </thead>\n",
       "  <tbody>\n",
       "    <tr>\n",
       "      <th>0</th>\n",
       "      <td>INC-20250319-001</td>\n",
       "      <td>A critical system failure has been detected in...</td>\n",
       "    </tr>\n",
       "    <tr>\n",
       "      <th>1</th>\n",
       "      <td>INC-20250319-001</td>\n",
       "      <td>A critical system failure has been detected in...</td>\n",
       "    </tr>\n",
       "    <tr>\n",
       "      <th>2</th>\n",
       "      <td>INC001</td>\n",
       "      <td>Unable to establish a connection to the produc...</td>\n",
       "    </tr>\n",
       "    <tr>\n",
       "      <th>3</th>\n",
       "      <td>INC002</td>\n",
       "      <td>The customer-facing web application is down wi...</td>\n",
       "    </tr>\n",
       "    <tr>\n",
       "      <th>4</th>\n",
       "      <td>INC003</td>\n",
       "      <td>CPU usage on server-05 has been above 95% for ...</td>\n",
       "    </tr>\n",
       "  </tbody>\n",
       "</table>\n",
       "</div>"
      ],
      "text/plain": [
       "        INCIDENT_ID                                        DESCRIPTION\n",
       "0  INC-20250319-001  A critical system failure has been detected in...\n",
       "1  INC-20250319-001  A critical system failure has been detected in...\n",
       "2            INC001  Unable to establish a connection to the produc...\n",
       "3            INC002  The customer-facing web application is down wi...\n",
       "4            INC003  CPU usage on server-05 has been above 95% for ..."
      ]
     },
     "execution_count": 8,
     "metadata": {},
     "output_type": "execute_result"
    }
   ],
   "source": [
    "with open(\"incident_data.json\", \"r\") as f:\n",
    "   alert_data = json.load(f)\n",
    "df = pd.DataFrame(alert_data)\n",
    "df = df[[\"INCIDENT_ID\", \"DESCRIPTION\"]]  # Ensure correct format\n",
    "df.head()"
   ]
  },
  {
   "cell_type": "code",
   "execution_count": 10,
   "metadata": {},
   "outputs": [],
   "source": [
    "model = SentenceTransformer(\"all-MiniLM-L6-v2\")\n",
    "embeddings = model.encode(df[\"DESCRIPTION\"].tolist())"
   ]
  },
  {
   "cell_type": "code",
   "execution_count": 11,
   "metadata": {},
   "outputs": [],
   "source": [
    "NUM_CLUSTERS = 5  # Change based on your data\n",
    "kmeans = KMeans(n_clusters=NUM_CLUSTERS, random_state=42)\n",
    "cluster_labels = kmeans.fit_predict(embeddings)\n",
    "df[\"cluster\"] = cluster_labels"
   ]
  },
  {
   "cell_type": "code",
   "execution_count": 12,
   "metadata": {},
   "outputs": [
    {
     "name": "stdout",
     "output_type": "stream",
     "text": [
      "Cluster 0 – Top Keywords: insufficient, vm, prod, storage, application\n",
      "Cluster 1 – Top Keywords: database, user, unknown, security, admin\n",
      "Cluster 2 – Top Keywords: network, failure, utc, disruptions, environment\n",
      "Cluster 3 – Top Keywords: function, instance, aws, application, failed\n",
      "Cluster 4 – Top Keywords: server, error, connection, 95, timeout\n"
     ]
    }
   ],
   "source": [
    "vectorizer = TfidfVectorizer(stop_words=\"english\")\n",
    "X = vectorizer.fit_transform(df[\"DESCRIPTION\"])\n",
    "for cluster_id in sorted(df[\"cluster\"].unique()):\n",
    "   indices = df[df[\"cluster\"] == cluster_id].index\n",
    "   cluster_docs = X[indices]\n",
    "   mean_tfidf = cluster_docs.mean(axis=0)\n",
    "   top_keywords = np.array(vectorizer.get_feature_names_out())[np.argsort(mean_tfidf.A1)[-5:]]\n",
    "   print(f\"Cluster {cluster_id} – Top Keywords: {', '.join(top_keywords[::-1])}\")"
   ]
  },
  {
   "cell_type": "code",
   "execution_count": 13,
   "metadata": {},
   "outputs": [],
   "source": [
    "cluster_to_rca = {\n",
    "   0: \"Database overload\",\n",
    "   1: \"Authentication failure\",\n",
    "   2: \"Disk space issue\",\n",
    "   3: \"App crash\",\n",
    "   4: \"Network latency\"\n",
    "}"
   ]
  },
  {
   "cell_type": "code",
   "execution_count": 15,
   "metadata": {},
   "outputs": [
    {
     "name": "stdout",
     "output_type": "stream",
     "text": [
      "\n",
      "=== RCA Predictions for Each Alert ===\n",
      "\n",
      "Incident ID: INC-20250319-001\n",
      "Description: A critical system failure has been detected in the Production Environment\n",
      "at 03:25 AM UTC. Immediate attention is required to prevent further service\n",
      "disruptions.\n",
      "Cluster: 2\n",
      "Predicted Root Cause: Disk space issue\n",
      "\n",
      "Incident ID: INC-20250319-001\n",
      "Description: A critical system failure has been detected in the Production Environment\n",
      "at 03:25 AM UTC. Immediate attention is required to prevent further service\n",
      "disruptions.\n",
      "Cluster: 2\n",
      "Predicted Root Cause: Disk space issue\n",
      "\n",
      "Incident ID: INC001\n",
      "Description: Unable to establish a connection to the production database. Error: Connection timeout after 30 seconds. Affects multiple applications.\n",
      "Cluster: 4\n",
      "Predicted Root Cause: Network latency\n",
      "\n",
      "Incident ID: INC002\n",
      "Description: The customer-facing web application is down with error 500 Internal Server Error. Logs show OutOfMemoryException in the backend.\n",
      "Cluster: 4\n",
      "Predicted Root Cause: Network latency\n",
      "\n",
      "Incident ID: INC003\n",
      "Description: CPU usage on server-05 has been above 95% for the last 30 minutes. Running processes show java.exe consuming excessive resources.\n",
      "Cluster: 4\n",
      "Predicted Root Cause: Network latency\n",
      "\n",
      "Incident ID: INC004\n",
      "Description: Outgoing emails are not being delivered. Mail server logs show SMTP Authentication Failure.\n",
      "Cluster: 4\n",
      "Predicted Root Cause: Network latency\n",
      "\n",
      "Incident ID: INC005\n",
      "Description: The /var/log directory on storage-03 is at 98% capacity. Risk of application failure due to insufficient space.\n",
      "Cluster: 0\n",
      "Predicted Root Cause: Database overload\n",
      "\n",
      "Incident ID: INC006\n",
      "Description: Users report slow response times. Ping to gateway-01 shows 300ms latency (normal is 20ms). Possible congestion or network attack.\n",
      "Cluster: 4\n",
      "Predicted Root Cause: Network latency\n",
      "\n",
      "Incident ID: INC101\n",
      "Description: EC2 instance i-0abcd1234efgh5678 is unreachable. Health checks failed. Possible network or instance failure.\n",
      "Cluster: 2\n",
      "Predicted Root Cause: Disk space issue\n",
      "\n",
      "Incident ID: INC102\n",
      "Description: Database queries are timing out. Error: SQL Server timeout expired. CPU utilization at 95%.\n",
      "Cluster: 4\n",
      "Predicted Root Cause: Network latency\n",
      "\n",
      "Incident ID: INC103\n",
      "Description: Application is unable to access gcp-bucket-xyz. Error: 403 Forbidden. IAM permissions may have been changed.\n",
      "Cluster: 3\n",
      "Predicted Root Cause: App crash\n",
      "\n",
      "Incident ID: INC104\n",
      "Description: AWS Lambda function process-event failed. Error: Memory limit exceeded. Function is not processing messages from SQS.\n",
      "Cluster: 3\n",
      "Predicted Root Cause: App crash\n",
      "\n",
      "Incident ID: INC105\n",
      "Description: Azure VM vm-prod-01 disk usage at 99%. Application may crash due to insufficient storage.\n",
      "Cluster: 0\n",
      "Predicted Root Cause: Database overload\n",
      "\n",
      "Incident ID: INC106\n",
      "Description: High network latency observed on us-central1 zone. Pings show 250ms delay. Possible regional network issue.\n",
      "Cluster: 2\n",
      "Predicted Root Cause: Disk space issue\n",
      "\n",
      "Incident ID: INC107\n",
      "Description: AWS RDS instance db-primary failed over to the secondary instance due to high CPU load. Application performance impacted.\n",
      "Cluster: 3\n",
      "Predicted Root Cause: App crash\n",
      "\n",
      "Incident ID: INC108\n",
      "Description: Pods in namespace-prod are stuck in CrashLoopBackOff. Logs show OOMKilled. Insufficient memory allocated.\n",
      "Cluster: 0\n",
      "Predicted Root Cause: Database overload\n",
      "\n",
      "Incident ID: INC109\n",
      "Description: A new IAM policy was applied to project-xyz. Warning: Admin role granted to unknown user. Possible security risk.\n",
      "Cluster: 1\n",
      "Predicted Root Cause: Authentication failure\n",
      "\n",
      "Incident ID: INC-20250407-002\n",
      "Description: An unauthorized access attempt was detected on the primary database cluster. Multiple failed login attempts were recorded from an unrecognized IP address. Immediate action is required to secure the database and investigate the source of the attack.\n",
      "Cluster: 1\n",
      "Predicted Root Cause: Authentication failure\n",
      "\n"
     ]
    }
   ],
   "source": [
    "print(\"\\n=== RCA Predictions for Each Alert ===\\n\")\n",
    "for i, row in df.iterrows():\n",
    "   cluster = row[\"cluster\"]\n",
    "   rca = cluster_to_rca.get(cluster, \"Unknown\")\n",
    "   print(f\"Incident ID: {row['INCIDENT_ID']}\")\n",
    "   print(f\"Description: {row['DESCRIPTION']}\")\n",
    "   print(f\"Cluster: {cluster}\")\n",
    "   print(f\"Predicted Root Cause: {rca}\\n\")"
   ]
  },
  {
   "cell_type": "code",
   "execution_count": null,
   "metadata": {},
   "outputs": [],
   "source": [
    "with open(\"kmeans_model.pkl\", \"wb\") as f:\n",
    "   pickle.dump(kmeans, f)\n",
    "with open(\"cluster_to_rca.pkl\", \"wb\") as f:\n",
    "   pickle.dump(cluster_to_rca, f)\n",
    "print(\"Model and mapping saved.\")"
   ]
  }
 ],
 "metadata": {
  "kernelspec": {
   "display_name": "Python 3",
   "language": "python",
   "name": "python3"
  },
  "language_info": {
   "codemirror_mode": {
    "name": "ipython",
    "version": 3
   },
   "file_extension": ".py",
   "mimetype": "text/x-python",
   "name": "python",
   "nbconvert_exporter": "python",
   "pygments_lexer": "ipython3",
   "version": "3.11.9"
  }
 },
 "nbformat": 4,
 "nbformat_minor": 2
}
