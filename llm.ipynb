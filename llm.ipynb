{
 "cells": [
  {
   "cell_type": "code",
   "execution_count": 2,
   "metadata": {},
   "outputs": [
    {
     "name": "stdout",
     "output_type": "stream",
     "text": [
      "Collecting huggingface_hub\n",
      "  Downloading huggingface_hub-0.30.1-py3-none-any.whl.metadata (13 kB)\n",
      "Requirement already satisfied: filelock in c:\\users\\ananya.mehta\\appdata\\local\\programs\\python\\python311\\lib\\site-packages (from huggingface_hub) (3.18.0)\n",
      "Collecting fsspec>=2023.5.0 (from huggingface_hub)\n",
      "  Downloading fsspec-2025.3.2-py3-none-any.whl.metadata (11 kB)\n",
      "Requirement already satisfied: packaging>=20.9 in c:\\users\\ananya.mehta\\appdata\\roaming\\python\\python311\\site-packages (from huggingface_hub) (24.2)\n",
      "Requirement already satisfied: pyyaml>=5.1 in c:\\users\\ananya.mehta\\appdata\\local\\programs\\python\\python311\\lib\\site-packages (from huggingface_hub) (6.0.2)\n",
      "Requirement already satisfied: requests in c:\\users\\ananya.mehta\\appdata\\local\\programs\\python\\python311\\lib\\site-packages (from huggingface_hub) (2.32.3)\n",
      "Collecting tqdm>=4.42.1 (from huggingface_hub)\n",
      "  Downloading tqdm-4.67.1-py3-none-any.whl.metadata (57 kB)\n",
      "     ---------------------------------------- 0.0/57.7 kB ? eta -:--:--\n",
      "     ---------------------------------------- 0.0/57.7 kB ? eta -:--:--\n",
      "     -------------------- ----------------- 30.7/57.7 kB 660.6 kB/s eta 0:00:01\n",
      "     ---------------------------------------- 57.7/57.7 kB 1.0 MB/s eta 0:00:00\n",
      "Requirement already satisfied: typing-extensions>=3.7.4.3 in c:\\users\\ananya.mehta\\appdata\\roaming\\python\\python311\\site-packages (from huggingface_hub) (4.13.0)\n",
      "Requirement already satisfied: colorama in c:\\users\\ananya.mehta\\appdata\\roaming\\python\\python311\\site-packages (from tqdm>=4.42.1->huggingface_hub) (0.4.6)\n",
      "Requirement already satisfied: charset-normalizer<4,>=2 in c:\\users\\ananya.mehta\\appdata\\local\\programs\\python\\python311\\lib\\site-packages (from requests->huggingface_hub) (3.4.1)\n",
      "Requirement already satisfied: idna<4,>=2.5 in c:\\users\\ananya.mehta\\appdata\\local\\programs\\python\\python311\\lib\\site-packages (from requests->huggingface_hub) (3.10)\n",
      "Requirement already satisfied: urllib3<3,>=1.21.1 in c:\\users\\ananya.mehta\\appdata\\local\\programs\\python\\python311\\lib\\site-packages (from requests->huggingface_hub) (2.3.0)\n",
      "Requirement already satisfied: certifi>=2017.4.17 in c:\\users\\ananya.mehta\\appdata\\local\\programs\\python\\python311\\lib\\site-packages (from requests->huggingface_hub) (2025.1.31)\n",
      "Downloading huggingface_hub-0.30.1-py3-none-any.whl (481 kB)\n",
      "   ---------------------------------------- 0.0/481.2 kB ? eta -:--:--\n",
      "   -------- ------------------------------- 102.4/481.2 kB 3.0 MB/s eta 0:00:01\n",
      "   ------------------- -------------------- 235.5/481.2 kB 2.9 MB/s eta 0:00:01\n",
      "   ------------------------- -------------- 307.2/481.2 kB 2.4 MB/s eta 0:00:01\n",
      "   ---------------------------- ----------- 337.9/481.2 kB 1.9 MB/s eta 0:00:01\n",
      "   ---------------------------------------  471.0/481.2 kB 2.3 MB/s eta 0:00:01\n",
      "   ---------------------------------------- 481.2/481.2 kB 2.0 MB/s eta 0:00:00\n",
      "Downloading fsspec-2025.3.2-py3-none-any.whl (194 kB)\n",
      "   ---------------------------------------- 0.0/194.4 kB ? eta -:--:--\n",
      "   ----------------------------------- ---- 174.1/194.4 kB 5.3 MB/s eta 0:00:01\n",
      "   ---------------------------------------- 194.4/194.4 kB 2.9 MB/s eta 0:00:00\n",
      "Downloading tqdm-4.67.1-py3-none-any.whl (78 kB)\n",
      "   ---------------------------------------- 0.0/78.5 kB ? eta -:--:--\n",
      "   ---------------------------------------- 78.5/78.5 kB 2.2 MB/s eta 0:00:00\n",
      "Installing collected packages: tqdm, fsspec, huggingface_hub\n",
      "Successfully installed fsspec-2025.3.2 huggingface_hub-0.30.1 tqdm-4.67.1\n",
      "Note: you may need to restart the kernel to use updated packages.\n"
     ]
    },
    {
     "name": "stderr",
     "output_type": "stream",
     "text": [
      "\n",
      "[notice] A new release of pip is available: 24.0 -> 25.0.1\n",
      "[notice] To update, run: python.exe -m pip install --upgrade pip\n"
     ]
    }
   ],
   "source": [
    "pip install huggingface_hub"
   ]
  },
  {
   "cell_type": "code",
   "execution_count": null,
   "metadata": {},
   "outputs": [
    {
     "ename": "HfHubHTTPError",
     "evalue": "401 Client Error: Unauthorized for url: https://huggingface.co/api/models/deepseek-ai/DeepSeek-V3-0324 (Request ID: Root=1-67ed1343-1757c5dd134f13ca18883149;a460d3c1-8d13-469b-b351-3ea73b31b735)\n\nInvalid credentials in Authorization header",
     "output_type": "error",
     "traceback": [
      "\u001b[31m---------------------------------------------------------------------------\u001b[39m",
      "\u001b[31mHTTPError\u001b[39m                                 Traceback (most recent call last)",
      "\u001b[36mFile \u001b[39m\u001b[32mc:\\Users\\Ananya.Mehta\\AppData\\Local\\Programs\\Python\\Python311\\Lib\\site-packages\\huggingface_hub\\utils\\_http.py:409\u001b[39m, in \u001b[36mhf_raise_for_status\u001b[39m\u001b[34m(response, endpoint_name)\u001b[39m\n\u001b[32m    408\u001b[39m \u001b[38;5;28;01mtry\u001b[39;00m:\n\u001b[32m--> \u001b[39m\u001b[32m409\u001b[39m     \u001b[43mresponse\u001b[49m\u001b[43m.\u001b[49m\u001b[43mraise_for_status\u001b[49m\u001b[43m(\u001b[49m\u001b[43m)\u001b[49m\n\u001b[32m    410\u001b[39m \u001b[38;5;28;01mexcept\u001b[39;00m HTTPError \u001b[38;5;28;01mas\u001b[39;00m e:\n",
      "\u001b[36mFile \u001b[39m\u001b[32mc:\\Users\\Ananya.Mehta\\AppData\\Local\\Programs\\Python\\Python311\\Lib\\site-packages\\requests\\models.py:1024\u001b[39m, in \u001b[36mResponse.raise_for_status\u001b[39m\u001b[34m(self)\u001b[39m\n\u001b[32m   1023\u001b[39m \u001b[38;5;28;01mif\u001b[39;00m http_error_msg:\n\u001b[32m-> \u001b[39m\u001b[32m1024\u001b[39m     \u001b[38;5;28;01mraise\u001b[39;00m HTTPError(http_error_msg, response=\u001b[38;5;28mself\u001b[39m)\n",
      "\u001b[31mHTTPError\u001b[39m: 401 Client Error: Unauthorized for url: https://huggingface.co/api/models/deepseek-ai/DeepSeek-V3-0324",
      "\nThe above exception was the direct cause of the following exception:\n",
      "\u001b[31mHfHubHTTPError\u001b[39m                            Traceback (most recent call last)",
      "\u001b[36mCell\u001b[39m\u001b[36m \u001b[39m\u001b[32mIn[15]\u001b[39m\u001b[32m, line 7\u001b[39m\n\u001b[32m      3\u001b[39m HF_API_KEY = \u001b[33m\"\u001b[39m\u001b[33mhf_fxoDgxCPbxEvexiOwNuCdOgxHGFpYNtlBp\u001b[39m\u001b[33m\"\u001b[39m  \n\u001b[32m      5\u001b[39m client = InferenceClient(api_key=HF_API_KEY)\n\u001b[32m----> \u001b[39m\u001b[32m7\u001b[39m completion = \u001b[43mclient\u001b[49m\u001b[43m.\u001b[49m\u001b[43mchat\u001b[49m\u001b[43m.\u001b[49m\u001b[43mcompletions\u001b[49m\u001b[43m.\u001b[49m\u001b[43mcreate\u001b[49m\u001b[43m(\u001b[49m\n\u001b[32m      8\u001b[39m \n\u001b[32m      9\u001b[39m \u001b[43m    \u001b[49m\u001b[43mmodel\u001b[49m\u001b[43m=\u001b[49m\u001b[33;43m\"\u001b[39;49m\u001b[33;43mdeepseek-ai/DeepSeek-V3-0324\u001b[39;49m\u001b[33;43m\"\u001b[39;49m\u001b[43m,\u001b[49m\n\u001b[32m     10\u001b[39m \n\u001b[32m     11\u001b[39m \u001b[43m    \u001b[49m\u001b[43mmessages\u001b[49m\u001b[43m=\u001b[49m\u001b[43m[\u001b[49m\n\u001b[32m     12\u001b[39m \n\u001b[32m     13\u001b[39m \u001b[43m        \u001b[49m\u001b[43m{\u001b[49m\u001b[33;43m\"\u001b[39;49m\u001b[33;43mrole\u001b[39;49m\u001b[33;43m\"\u001b[39;49m\u001b[43m:\u001b[49m\u001b[43m \u001b[49m\u001b[33;43m\"\u001b[39;49m\u001b[33;43muser\u001b[39;49m\u001b[33;43m\"\u001b[39;49m\u001b[43m,\u001b[49m\u001b[43m \u001b[49m\u001b[33;43m\"\u001b[39;49m\u001b[33;43mcontent\u001b[39;49m\u001b[33;43m\"\u001b[39;49m\u001b[43m:\u001b[49m\u001b[43m \u001b[49m\u001b[33;43m\"\u001b[39;49m\u001b[33;43mWhat is the capital of France?\u001b[39;49m\u001b[33;43m\"\u001b[39;49m\u001b[43m}\u001b[49m\n\u001b[32m     14\u001b[39m \n\u001b[32m     15\u001b[39m \u001b[43m    \u001b[49m\u001b[43m]\u001b[49m\u001b[43m,\u001b[49m\n\u001b[32m     16\u001b[39m \n\u001b[32m     17\u001b[39m \u001b[43m    \u001b[49m\u001b[43mmax_tokens\u001b[49m\u001b[43m=\u001b[49m\u001b[32;43m500\u001b[39;49m\u001b[43m,\u001b[49m\n\u001b[32m     18\u001b[39m \n\u001b[32m     19\u001b[39m \u001b[43m)\u001b[49m\n\u001b[32m     21\u001b[39m \u001b[38;5;28mprint\u001b[39m(completion.choices[\u001b[32m0\u001b[39m].message) \n",
      "\u001b[36mFile \u001b[39m\u001b[32mc:\\Users\\Ananya.Mehta\\AppData\\Local\\Programs\\Python\\Python311\\Lib\\site-packages\\huggingface_hub\\inference\\_client.py:985\u001b[39m, in \u001b[36mInferenceClient.chat_completion\u001b[39m\u001b[34m(self, messages, model, stream, frequency_penalty, logit_bias, logprobs, max_tokens, n, presence_penalty, response_format, seed, stop, stream_options, temperature, tool_choice, tool_prompt, tools, top_logprobs, top_p, extra_body)\u001b[39m\n\u001b[32m    963\u001b[39m \u001b[38;5;66;03m# Prepare the payload\u001b[39;00m\n\u001b[32m    964\u001b[39m parameters = {\n\u001b[32m    965\u001b[39m     \u001b[33m\"\u001b[39m\u001b[33mmodel\u001b[39m\u001b[33m\"\u001b[39m: payload_model,\n\u001b[32m    966\u001b[39m     \u001b[33m\"\u001b[39m\u001b[33mfrequency_penalty\u001b[39m\u001b[33m\"\u001b[39m: frequency_penalty,\n\u001b[32m   (...)\u001b[39m\u001b[32m    983\u001b[39m     **(extra_body \u001b[38;5;129;01mor\u001b[39;00m {}),\n\u001b[32m    984\u001b[39m }\n\u001b[32m--> \u001b[39m\u001b[32m985\u001b[39m request_parameters = \u001b[43mprovider_helper\u001b[49m\u001b[43m.\u001b[49m\u001b[43mprepare_request\u001b[49m\u001b[43m(\u001b[49m\n\u001b[32m    986\u001b[39m \u001b[43m    \u001b[49m\u001b[43minputs\u001b[49m\u001b[43m=\u001b[49m\u001b[43mmessages\u001b[49m\u001b[43m,\u001b[49m\n\u001b[32m    987\u001b[39m \u001b[43m    \u001b[49m\u001b[43mparameters\u001b[49m\u001b[43m=\u001b[49m\u001b[43mparameters\u001b[49m\u001b[43m,\u001b[49m\n\u001b[32m    988\u001b[39m \u001b[43m    \u001b[49m\u001b[43mheaders\u001b[49m\u001b[43m=\u001b[49m\u001b[38;5;28;43mself\u001b[39;49m\u001b[43m.\u001b[49m\u001b[43mheaders\u001b[49m\u001b[43m,\u001b[49m\n\u001b[32m    989\u001b[39m \u001b[43m    \u001b[49m\u001b[43mmodel\u001b[49m\u001b[43m=\u001b[49m\u001b[43mmodel_id_or_url\u001b[49m\u001b[43m,\u001b[49m\n\u001b[32m    990\u001b[39m \u001b[43m    \u001b[49m\u001b[43mapi_key\u001b[49m\u001b[43m=\u001b[49m\u001b[38;5;28;43mself\u001b[39;49m\u001b[43m.\u001b[49m\u001b[43mtoken\u001b[49m\u001b[43m,\u001b[49m\n\u001b[32m    991\u001b[39m \u001b[43m\u001b[49m\u001b[43m)\u001b[49m\n\u001b[32m    992\u001b[39m data = \u001b[38;5;28mself\u001b[39m._inner_post(request_parameters, stream=stream)\n\u001b[32m    994\u001b[39m \u001b[38;5;28;01mif\u001b[39;00m stream:\n",
      "\u001b[36mFile \u001b[39m\u001b[32mc:\\Users\\Ananya.Mehta\\AppData\\Local\\Programs\\Python\\Python311\\Lib\\site-packages\\huggingface_hub\\inference\\_providers\\_common.py:64\u001b[39m, in \u001b[36mTaskProviderHelper.prepare_request\u001b[39m\u001b[34m(self, inputs, parameters, headers, model, api_key, extra_payload)\u001b[39m\n\u001b[32m     61\u001b[39m api_key = \u001b[38;5;28mself\u001b[39m._prepare_api_key(api_key)\n\u001b[32m     63\u001b[39m \u001b[38;5;66;03m# mapped model from HF model ID\u001b[39;00m\n\u001b[32m---> \u001b[39m\u001b[32m64\u001b[39m mapped_model = \u001b[38;5;28;43mself\u001b[39;49m\u001b[43m.\u001b[49m\u001b[43m_prepare_mapped_model\u001b[49m\u001b[43m(\u001b[49m\u001b[43mmodel\u001b[49m\u001b[43m)\u001b[49m\n\u001b[32m     66\u001b[39m \u001b[38;5;66;03m# default HF headers + user headers (to customize in subclasses)\u001b[39;00m\n\u001b[32m     67\u001b[39m headers = \u001b[38;5;28mself\u001b[39m._prepare_headers(headers, api_key)\n",
      "\u001b[36mFile \u001b[39m\u001b[32mc:\\Users\\Ananya.Mehta\\AppData\\Local\\Programs\\Python\\Python311\\Lib\\site-packages\\huggingface_hub\\inference\\_providers\\hf_inference.py:35\u001b[39m, in \u001b[36mHFInferenceTask._prepare_mapped_model\u001b[39m\u001b[34m(self, model)\u001b[39m\n\u001b[32m     30\u001b[39m \u001b[38;5;28;01mif\u001b[39;00m model_id \u001b[38;5;129;01mis\u001b[39;00m \u001b[38;5;28;01mNone\u001b[39;00m:\n\u001b[32m     31\u001b[39m     \u001b[38;5;28;01mraise\u001b[39;00m \u001b[38;5;167;01mValueError\u001b[39;00m(\n\u001b[32m     32\u001b[39m         \u001b[33mf\u001b[39m\u001b[33m\"\u001b[39m\u001b[33mTask \u001b[39m\u001b[38;5;132;01m{\u001b[39;00m\u001b[38;5;28mself\u001b[39m.task\u001b[38;5;132;01m}\u001b[39;00m\u001b[33m has no recommended model for HF Inference. Please specify a model\u001b[39m\u001b[33m\"\u001b[39m\n\u001b[32m     33\u001b[39m         \u001b[33m\"\u001b[39m\u001b[33m explicitly. Visit https://huggingface.co/tasks for more info.\u001b[39m\u001b[33m\"\u001b[39m\n\u001b[32m     34\u001b[39m     )\n\u001b[32m---> \u001b[39m\u001b[32m35\u001b[39m \u001b[43m_check_supported_task\u001b[49m\u001b[43m(\u001b[49m\u001b[43mmodel_id\u001b[49m\u001b[43m,\u001b[49m\u001b[43m \u001b[49m\u001b[38;5;28;43mself\u001b[39;49m\u001b[43m.\u001b[49m\u001b[43mtask\u001b[49m\u001b[43m)\u001b[49m\n\u001b[32m     36\u001b[39m \u001b[38;5;28;01mreturn\u001b[39;00m model_id\n",
      "\u001b[36mFile \u001b[39m\u001b[32mc:\\Users\\Ananya.Mehta\\AppData\\Local\\Programs\\Python\\Python311\\Lib\\site-packages\\huggingface_hub\\inference\\_providers\\hf_inference.py:130\u001b[39m, in \u001b[36m_check_supported_task\u001b[39m\u001b[34m(model, task)\u001b[39m\n\u001b[32m    126\u001b[39m \u001b[38;5;129m@lru_cache\u001b[39m(maxsize=\u001b[38;5;28;01mNone\u001b[39;00m)\n\u001b[32m    127\u001b[39m \u001b[38;5;28;01mdef\u001b[39;00m\u001b[38;5;250m \u001b[39m\u001b[34m_check_supported_task\u001b[39m(model: \u001b[38;5;28mstr\u001b[39m, task: \u001b[38;5;28mstr\u001b[39m) -> \u001b[38;5;28;01mNone\u001b[39;00m:\n\u001b[32m    128\u001b[39m     \u001b[38;5;28;01mfrom\u001b[39;00m\u001b[38;5;250m \u001b[39m\u001b[34;01mhuggingface_hub\u001b[39;00m\u001b[34;01m.\u001b[39;00m\u001b[34;01mhf_api\u001b[39;00m\u001b[38;5;250m \u001b[39m\u001b[38;5;28;01mimport\u001b[39;00m HfApi\n\u001b[32m--> \u001b[39m\u001b[32m130\u001b[39m     model_info = \u001b[43mHfApi\u001b[49m\u001b[43m(\u001b[49m\u001b[43m)\u001b[49m\u001b[43m.\u001b[49m\u001b[43mmodel_info\u001b[49m\u001b[43m(\u001b[49m\u001b[43mmodel\u001b[49m\u001b[43m)\u001b[49m\n\u001b[32m    131\u001b[39m     pipeline_tag = model_info.pipeline_tag\n\u001b[32m    132\u001b[39m     tags = model_info.tags \u001b[38;5;129;01mor\u001b[39;00m []\n",
      "\u001b[36mFile \u001b[39m\u001b[32mc:\\Users\\Ananya.Mehta\\AppData\\Local\\Programs\\Python\\Python311\\Lib\\site-packages\\huggingface_hub\\utils\\_validators.py:114\u001b[39m, in \u001b[36mvalidate_hf_hub_args.<locals>._inner_fn\u001b[39m\u001b[34m(*args, **kwargs)\u001b[39m\n\u001b[32m    111\u001b[39m \u001b[38;5;28;01mif\u001b[39;00m check_use_auth_token:\n\u001b[32m    112\u001b[39m     kwargs = smoothly_deprecate_use_auth_token(fn_name=fn.\u001b[34m__name__\u001b[39m, has_token=has_token, kwargs=kwargs)\n\u001b[32m--> \u001b[39m\u001b[32m114\u001b[39m \u001b[38;5;28;01mreturn\u001b[39;00m \u001b[43mfn\u001b[49m\u001b[43m(\u001b[49m\u001b[43m*\u001b[49m\u001b[43margs\u001b[49m\u001b[43m,\u001b[49m\u001b[43m \u001b[49m\u001b[43m*\u001b[49m\u001b[43m*\u001b[49m\u001b[43mkwargs\u001b[49m\u001b[43m)\u001b[49m\n",
      "\u001b[36mFile \u001b[39m\u001b[32mc:\\Users\\Ananya.Mehta\\AppData\\Local\\Programs\\Python\\Python311\\Lib\\site-packages\\huggingface_hub\\hf_api.py:2592\u001b[39m, in \u001b[36mHfApi.model_info\u001b[39m\u001b[34m(self, repo_id, revision, timeout, securityStatus, files_metadata, expand, token)\u001b[39m\n\u001b[32m   2590\u001b[39m     params[\u001b[33m\"\u001b[39m\u001b[33mexpand\u001b[39m\u001b[33m\"\u001b[39m] = expand\n\u001b[32m   2591\u001b[39m r = get_session().get(path, headers=headers, timeout=timeout, params=params)\n\u001b[32m-> \u001b[39m\u001b[32m2592\u001b[39m \u001b[43mhf_raise_for_status\u001b[49m\u001b[43m(\u001b[49m\u001b[43mr\u001b[49m\u001b[43m)\u001b[49m\n\u001b[32m   2593\u001b[39m data = r.json()\n\u001b[32m   2594\u001b[39m \u001b[38;5;28;01mreturn\u001b[39;00m ModelInfo(**data)\n",
      "\u001b[36mFile \u001b[39m\u001b[32mc:\\Users\\Ananya.Mehta\\AppData\\Local\\Programs\\Python\\Python311\\Lib\\site-packages\\huggingface_hub\\utils\\_http.py:482\u001b[39m, in \u001b[36mhf_raise_for_status\u001b[39m\u001b[34m(response, endpoint_name)\u001b[39m\n\u001b[32m    478\u001b[39m     \u001b[38;5;28;01mraise\u001b[39;00m _format(HfHubHTTPError, message, response) \u001b[38;5;28;01mfrom\u001b[39;00m\u001b[38;5;250m \u001b[39m\u001b[34;01me\u001b[39;00m\n\u001b[32m    480\u001b[39m \u001b[38;5;66;03m# Convert `HTTPError` into a `HfHubHTTPError` to display request information\u001b[39;00m\n\u001b[32m    481\u001b[39m \u001b[38;5;66;03m# as well (request id and/or server error message)\u001b[39;00m\n\u001b[32m--> \u001b[39m\u001b[32m482\u001b[39m \u001b[38;5;28;01mraise\u001b[39;00m _format(HfHubHTTPError, \u001b[38;5;28mstr\u001b[39m(e), response) \u001b[38;5;28;01mfrom\u001b[39;00m\u001b[38;5;250m \u001b[39m\u001b[34;01me\u001b[39;00m\n",
      "\u001b[31mHfHubHTTPError\u001b[39m: 401 Client Error: Unauthorized for url: https://huggingface.co/api/models/deepseek-ai/DeepSeek-V3-0324 (Request ID: Root=1-67ed1343-1757c5dd134f13ca18883149;a460d3c1-8d13-469b-b351-3ea73b31b735)\n\nInvalid credentials in Authorization header"
     ]
    }
   ],
   "source": [
    "from huggingface_hub import InferenceClient\n",
    "\n",
    "# HF_API_KEY = \" \"  \n",
    "\n",
    "# client = InferenceClient(api_key=HF_API_KEY)\n",
    "\n",
    "completion = client.chat.completions.create(\n",
    "\n",
    "    model=\"deepseek-ai/DeepSeek-V3-0324\",\n",
    "\n",
    "    messages=[\n",
    "\n",
    "        {\"role\": \"user\", \"content\": \"What is the capital of France?\"}\n",
    "\n",
    "    ],\n",
    "\n",
    "    max_tokens=500,\n",
    "\n",
    ")\n",
    "\n",
    "print(completion.choices[0].message) "
   ]
  },
  {
   "cell_type": "code",
   "execution_count": null,
   "metadata": {},
   "outputs": [
    {
     "name": "stdout",
     "output_type": "stream",
     "text": [
      "[{'generated_text': 'what is 5+99?\\n\\nAnswer:\\n5+99=104'}]\n"
     ]
    }
   ],
   "source": [
    "import requests\n",
    "import configparser\n",
    "config = configparser.ConfigParser()\n",
    "config.read(\"config.ini\")\n",
    "API_URL = \"https://api-inference.huggingface.co/models/google/gemma-7b\"\n",
    "API_KEY = config[\"huggingface\"][\"api_key\"]\n",
    "headers = {\"Authorization\": f\"Bearer {API_KEY} \"}\n",
    "response = requests.post(API_URL, json={\"inputs\": \"what is 5+99?\"}, headers=headers)\n",
    "print(response.json())  # Should return AI-generated response"
   ]
  },
  {
   "cell_type": "code",
   "execution_count": 53,
   "metadata": {},
   "outputs": [
    {
     "name": "stdout",
     "output_type": "stream",
     "text": [
      "Row data:\n",
      "  INCIDENT_ID: CLD-20250319-089\n",
      "  SUBJECT: 🚨 Critical Alert: Cloud Server PROD-23 is Unreachable\n",
      "  IMPACT_LEVEL: Critical\n",
      "  AFFECTED_SERVICE: Cloud Server PROD-23\n",
      "  TIMESTAMP: 2025-03-26 17:33:30\n",
      "  DESCRIPTION: None\n",
      "Snowflake cursor closed\n",
      "Snowflake connection closed\n"
     ]
    }
   ],
   "source": [
    "import imaplib\n",
    "import email\n",
    "import keyring\n",
    "import snowflake.connector\n",
    "from email.header import decode_header\n",
    "import datetime\n",
    "import configparser\n",
    "\n",
    "# Gmail credentials\n",
    "USERNAME = 'ananyamehta.work@gmail.com'\n",
    "APP_PASSWORD = keyring.get_password(\"my_app\", USERNAME)\n",
    "if not APP_PASSWORD:\n",
    "    raise ValueError(\"App password not found in keyring. Please store it first.\")\n",
    "\n",
    "# Snowflake connection details\n",
    "config = configparser.ConfigParser()\n",
    "config.read('config.ini')\n",
    "\n",
    "SNOWFLAKE_USER = config['snowflake']['user']\n",
    "SNOWFLAKE_PASSWORD = config['snowflake']['password']\n",
    "SNOWFLAKE_ACCOUNT = config['snowflake']['account']\n",
    "SNOWFLAKE_WAREHOUSE = config['snowflake']['warehouse']\n",
    "SNOWFLAKE_DATABASE = config['snowflake']['database']\n",
    "SNOWFLAKE_SCHEMA = config['snowflake']['schema']\n",
    "\n",
    "# Connecting to Snowflake\n",
    "conn = None\n",
    "cur = None\n",
    "mail = None\n",
    "\n",
    "try:\n",
    "    conn = snowflake.connector.connect(\n",
    "        user=SNOWFLAKE_USER,\n",
    "        password=SNOWFLAKE_PASSWORD,\n",
    "        account=SNOWFLAKE_ACCOUNT,\n",
    "        warehouse=SNOWFLAKE_WAREHOUSE,\n",
    "        database=SNOWFLAKE_DATABASE,\n",
    "        schema=SNOWFLAKE_SCHEMA\n",
    "    )\n",
    "    cur = conn.cursor()\n",
    "\n",
    "    # Initializing database\n",
    "    cur.execute(f\"USE DATABASE {SNOWFLAKE_DATABASE};\")\n",
    "    cur.execute(f\"USE SCHEMA {SNOWFLAKE_SCHEMA};\")\n",
    "\n",
    "    # Creating table if it doesn't exist\n",
    "    cur.execute(\"\"\"\n",
    "        CREATE TABLE IF NOT EXISTS email_alertdata (\n",
    "            subject STRING,\n",
    "            INCIDENT_ID STRING,\n",
    "            impact_level STRING,\n",
    "            affected_service STRING,\n",
    "            timestamp TIMESTAMP,\n",
    "            description STRING\n",
    "        );\n",
    "    \"\"\")\n",
    "\n",
    "    # Fetch data and column names\n",
    "    cur.execute(\"SELECT * FROM email_alertdata LIMIT 1\")  # Example query\n",
    "    column_names = [desc[0] for desc in cur.description]\n",
    "    rows = cur.fetchall()\n",
    "\n",
    "    # Print the data with column names\n",
    "    for row in rows:\n",
    "        row_data = dict(zip(column_names, row))\n",
    "        print(\"Row data:\")\n",
    "        for col, val in row_data.items():\n",
    "            print(f\"  {col}: {val}\")\n",
    "except Exception as e:\n",
    "    print(f\"Error: {e}\")\n",
    "finally:\n",
    "    # Close connections\n",
    "    if cur:\n",
    "        cur.close()\n",
    "        print(\"Snowflake cursor closed\")\n",
    "    if conn:\n",
    "        conn.close()\n",
    "        print(\"Snowflake connection closed\")\n",
    "    if mail:\n",
    "        mail.close()\n",
    "        mail.logout()\n",
    "        print(\"Gmail connection closed\")\n"
   ]
  },
  {
   "cell_type": "code",
   "execution_count": null,
   "metadata": {},
   "outputs": [
    {
     "name": "stdout",
     "output_type": "stream",
     "text": [
      "Found 1 alert emails\n",
      "Fetching 1 alert emails received today (02-Apr-2025)...\n",
      "Hugging Face API Output: [{'generated_text': 'Incident ID: BCK-20250319-289, Subject: Fwd: Backup Alert: Scheduled Database Backup Failed, Impact Level: Critical, Affected Service: None, Description: Backup Failure Reason: Write permission denied Backup\\r\\nDuration: 0 minutes (Expected: 2 hours)\\r\\nDetected By: Backup Scheduler\\r\\nDetected on: Apr 9, 2020 8:31 PM CDT\\r\\nWOC(17) -- This alert will be in progress for 2 days.\\r\\nThe specified backup has too many (681) errors and the source process unnecessarily waited for 257534 seconds before canceling. Scheduled to restart at 8:30 pm CDT (note: it\\r\\nhasn\\'t failed before 8:00 am CDT) which is about 16 hours later.\\r*/\\r\\n  ,\\r\\n  \"\"\"\\r\\n  );\\r\\n\\r\\nconst createNTEventDefinition = async(): Promise<IProtoMessage> => {\\r\\n\\r\\n  const buffer: Buffer = await _ อา ;\\'],\\r\\n31447,\\r\\n32051\\r\\n);#,  `/K`,                  (0x4b /* K */,                    `\\\\\\\\@`, \\r\\n                                   (0x40 /* \\'@\\' */, \\r\\n                                   `\\\\\\\\`, \\r\\n       )));\\r\\n                                   return \\r\\n      _\\r\\n         ,_\\n               _ assembly\\r\\n(  \\r\\n    0\\r\\n)),,    \\r\\n \\r\\n);_\\r\\n \\r\\n\\r\\n(   \\r\\n   \\r\\n    б_ p\\r\\n), \\r\\n /* \\n-peuiod\\r\\nb~\\r*/\\r\\n Constants.ITypeOfProtocol.EVENT \\r\\n);\\r\\n\\r\\n};;    \\r\\n\\n\\n\\nreturn _;\\r\\n  ;\\r\\n   ;  ;\\n;  ;   ;\\r\\n\\n}\\r\\n\\n}\\n'}]\n",
      "Stored: Fwd: Backup Alert: Scheduled Database Backup Failed from Ananya Mehta <ananyamehta.work@gmail.com>\n",
      "Data inserted successfully\n",
      "Gmail connection closed\n",
      "Snowflake cursor closed\n",
      "Snowflake connection closed\n"
     ]
    }
   ],
   "source": []
  },
  {
   "cell_type": "code",
   "execution_count": null,
   "metadata": {},
   "outputs": [],
   "source": []
  }
 ],
 "metadata": {
  "kernelspec": {
   "display_name": "Python 3",
   "language": "python",
   "name": "python3"
  },
  "language_info": {
   "codemirror_mode": {
    "name": "ipython",
    "version": 3
   },
   "file_extension": ".py",
   "mimetype": "text/x-python",
   "name": "python",
   "nbconvert_exporter": "python",
   "pygments_lexer": "ipython3",
   "version": "3.11.9"
  }
 },
 "nbformat": 4,
 "nbformat_minor": 2
}
